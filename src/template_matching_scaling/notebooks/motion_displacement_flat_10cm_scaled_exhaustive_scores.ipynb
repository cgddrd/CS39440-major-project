{
 "cells": [
  {
   "cell_type": "markdown",
   "metadata": {},
   "source": [
    "# Terrain Motion Displacement - Flat 10cm (Scaled - Exhaustive) - Scores"
   ]
  },
  {
   "cell_type": "markdown",
   "metadata": {},
   "source": [
    "## 1) IPython Setup"
   ]
  },
  {
   "cell_type": "code",
   "execution_count": null,
   "metadata": {
    "collapsed": true,
    "slideshow": {
     "slide_type": "slide"
    }
   },
   "outputs": [],
   "source": [
    "%%javascript\n",
    "/* \n",
    " * Force prevention of output scroll toggle.\n",
    " * Original source: https://github.com/ipython/ipython/issues/2172#issuecomment-53708976 \n",
    " */\n",
    "IPython.OutputArea.auto_scroll_threshold = 9999;"
   ]
  },
  {
   "cell_type": "code",
   "execution_count": 20,
   "metadata": {
    "collapsed": false
   },
   "outputs": [
    {
     "name": "stdout",
     "output_type": "stream",
     "text": [
      "The ipycache extension is already loaded. To reload it, use:\n",
      "  %reload_ext ipycache\n"
     ]
    }
   ],
   "source": [
    "%load_ext ipycache\n",
    "%matplotlib inline\n",
    "\n",
    "import matplotlib as mpl\n",
    "mpl.rcParams['figure.figsize'] = (12, 8)\n",
    "\n",
    "# We have to add a reference to the parent folder in order to access the modules.\n",
    "import sys,os\n",
    "sys.path.insert(1, os.path.join(sys.path[0], '..'))\n",
    "\n",
    "import main as templ\n",
    "import matplotlib.pyplot as plt\n",
    "import numpy as np\n",
    "import cv2\n",
    "\n",
    "from tse.tse_matchmethod import tse_match_methods\n",
    "from tse.tse_matchtype import TSEMatchType\n",
    "from tse.tse_datautils import TSEDataUtils"
   ]
  },
  {
   "cell_type": "markdown",
   "metadata": {},
   "source": [
    "## 2) Calculate Displacement "
   ]
  },
  {
   "cell_type": "code",
   "execution_count": 21,
   "metadata": {
    "collapsed": false
   },
   "outputs": [
    {
     "name": "stdout",
     "output_type": "stream",
     "text": [
      "[Skipped the cell's code and loaded variables results_dict from file '/Users/connorgoddard/Desktop/CS39440-major-project/src/template_matching_scaling/notebooks/cache/cache_flat_10cm_non_scaled_scores.pkl'.]\n"
     ]
    }
   ],
   "source": [
    "%%cache -d cache/ cache_flat_10cm_scaled_exhaustive_scores.pkl results_dict\n",
    "\n",
    "config_file = \"../../eval_data/calib/calibdata_23_03_15_11_07_04.txt\"\n",
    "\n",
    "image_pairs = [\n",
    "                (\"../../eval_data/motion_images/flat_10cm/IMG1.JPG\", \"../../eval_data/motion_images/flat_10cm/IMG2.JPG\"),\n",
    "                (\"../../eval_data/motion_images/flat_10cm/IMG3.JPG\", \"../../eval_data/motion_images/flat_10cm/IMG4.JPG\"),\n",
    "                (\"../../eval_data/motion_images/flat_10cm/IMG5.JPG\", \"../../eval_data/motion_images/flat_10cm/IMG6.JPG\"),\n",
    "                (\"../../eval_data/motion_images/flat_10cm/IMG7.JPG\", \"../../eval_data/motion_images/flat_10cm/IMG8.JPG\"),\n",
    "                (\"../../eval_data/motion_images/flat_10cm/IMG9.JPG\", \"../../eval_data/motion_images/flat_10cm/IMG10.JPG\"),\n",
    "                (\"../../eval_data/motion_images/flat_10cm/IMG11.JPG\", \"../../eval_data/motion_images/flat_10cm/IMG12.JPG\")\n",
    "              ]\n",
    "\n",
    "patch_sizes = [100]\n",
    "\n",
    "match_method1 = TSEMatchType(\"DistanceEuclidean\", tse_match_methods.DISTANCE_ED, None, \"r\", reverse_score=True)\n",
    "# match_method2 = TSEMatchType(\"HistCorrel\", tse_match_methods.HIST, cv2.cv.CV_COMP_CORREL, \"b\")\n",
    "# match_method3 = TSEMatchType(\"HistChiSqr\", tse_match_methods.HIST, cv2.cv.CV_COMP_CHISQR, \"g\", reverse_score=True)\n",
    "# match_method4 = TSEMatchType(\"DistanceCorr\", tse_match_methods.DISTANCE, cv2.cv.CV_TM_CCORR_NORMED, \"y\")\n",
    "\n",
    "match_methods = [match_method1]\n",
    "\n",
    "results_dict = templ.start_tests(image_pairs, patch_sizes, match_methods, config_file, exhaustive_search=True, use_scaling=True, plot_results=False)"
   ]
  },
  {
   "cell_type": "markdown",
   "metadata": {},
   "source": [
    "## 3) Tests"
   ]
  },
  {
   "cell_type": "markdown",
   "metadata": {},
   "source": [
    "### Test 1: IMG1/IMG2 - 50px patch - *DistanceEuclidean*, *DistanceCorr*, *HistCorrel*, *HistChiSqr*"
   ]
  },
  {
   "cell_type": "code",
   "execution_count": 22,
   "metadata": {
    "collapsed": false
   },
   "outputs": [
    {
     "name": "stdout",
     "output_type": "stream",
     "text": [
      "[155, 156, 157, 158, 159, 160, 161, 162, 163, 164, 165, 166, 167, 168, 169, 170, 171, 172, 173, 174, 175, 176, 177, 178, 179, 180, 181, 182, 183, 184, 185, 186, 187, 188, 189, 190, 191, 192, 193, 194, 195, 196, 197, 198, 199, 200, 201, 202, 203, 204, 205, 206, 207, 208, 209, 210, 211, 212, 213, 214, 215, 216, 217, 218, 219, 220, 221, 222, 223, 224, 225, 226, 227, 228, 229, 230, 231, 232, 233, 234, 235, 236, 237, 238, 239, 240, 241, 242, 243, 244, 245, 246, 247, 248, 249, 250, 251, 252, 253, 254, 255, 256, 257, 258, 259, 260, 261, 262, 263, 264, 265, 266, 267, 268, 269, 270, 271, 272, 273, 274, 275, 276, 277, 278, 279, 280, 281, 282, 283, 284, 285, 286, 287, 288, 289, 290, 291, 292, 293, 294, 295, 296, 297, 298, 299, 300, 301, 302, 303, 304, 305, 306, 307, 308, 309, 310, 311, 312, 313, 314, 315, 316, 317, 318, 319, 320, 321, 322, 323, 324, 325, 326, 327, 328, 329, 330, 331, 332, 333, 334, 335, 336, 337, 338, 339, 340, 341, 342, 343, 344, 345, 346, 347, 348, 349, 350, 351, 352, 353, 354, 355, 356, 357, 358, 359, 360, 361, 362, 363, 364, 365, 366, 367, 368, 369, 370, 371, 372, 373, 374, 375, 376, 377, 378, 379]\n"
     ]
    },
    {
     "data": {
      "text/plain": [
       "[<matplotlib.lines.Line2D at 0x1158ff310>]"
      ]
     },
     "execution_count": 22,
     "metadata": {},
     "output_type": "execute_result"
    },
    {
     "data": {
      "image/png": "[encoded data removed]"
     },
     "metadata": {},
     "output_type": "display_data"
    }
   ],
   "source": [
    "results_pair1_100 = results_dict['IMG1.JPG_IMG2.JPG'][100]\n",
    "\n",
    "final_results = {}\n",
    "format_ids = [\"b\", \"g\", \"r\", \"y\"]\n",
    "\n",
    "for method in results_pair1_100:\n",
    "        \n",
    "    if method not in final_results:\n",
    "        final_results[method] = {}\n",
    "\n",
    "    data = results_pair1_100[method]\n",
    "\n",
    "    final_results[method]['displacement'] = [result.displacement for result in data]\n",
    "\n",
    "    final_results[method]['row'] = [result.row for result in data]\n",
    "    \n",
    "    final_results[method]['match_scores'] = [result.match_scores for result in data]\n",
    "\n",
    "\n",
    "# print final_results['DistanceEuclidean']['match_scores']\n",
    "\n",
    "print final_results['DistanceEuclidean']['row']\n",
    "# print final_results['DistanceEuclidean']['match_scores'][0]\n",
    "\n",
    "scores = [result[0] for result in final_results['DistanceEuclidean']['match_scores'][1]]\n",
    "rows = [result[1] for result in final_results['DistanceEuclidean']['match_scores'][1]]\n",
    "\n",
    "# print scores\n",
    "# print rows\n",
    "\n",
    "plt.plot(np.array(rows), np.array(scores), \"{0}-\".format('b'), label=result)\n",
    "    \n",
    "    \n",
    "# for i, result in enumerate(final_results):\n",
    "    \n",
    "#     final_results[result]['cma'] = TSEDataUtils.calc_centered_moving_average(np.array(final_results[result]['displacement']), 10)\n",
    "    \n",
    "#     plt.plot(np.array(final_results[result]['row']), np.array(final_results[result]['displacement']), \"{0}.\".format(format_ids[i]), label=result)\n",
    "    \n",
    "#     plt.plot(final_results[result]['row'][len(final_results[result]['row']) - len(final_results[result]['cma']):], final_results[result]['cma'], \"{0}-\".format(format_ids[i]), label=\"{0}_CMA\".format(result))                                                 \n",
    "\n",
    "# plt.title('Vertical Motion Displacement - IMG1/IMG2 - 50px patch height')\n",
    "# plt.xlabel('Image Row Height (px)')\n",
    "# plt.ylabel('Vertical Displacement (px)')\n",
    "# plt.legend(loc='upper left')\n",
    "# plt.show()"
   ]
  },
  {
   "cell_type": "code",
   "execution_count": null,
   "metadata": {
    "collapsed": true
   },
   "outputs": [],
   "source": []
  }
 ],
 "metadata": {
  "celltoolbar": "Edit Metadata",
  "kernelspec": {
   "display_name": "Python 2",
   "language": "python",
   "name": "python2"
  },
  "language_info": {
   "codemirror_mode": {
    "name": "ipython",
    "version": 2
   },
   "file_extension": ".py",
   "mimetype": "text/x-python",
   "name": "python",
   "nbconvert_exporter": "python",
   "pygments_lexer": "ipython2",
   "version": "2.7.9"
  }
 },
 "nbformat": 4,
 "nbformat_minor": 0
}
